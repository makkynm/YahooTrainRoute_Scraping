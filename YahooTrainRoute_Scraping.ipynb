{
 "cells": [
  {
   "cell_type": "code",
   "execution_count": 1,
   "id": "af0c3a63",
   "metadata": {},
   "outputs": [],
   "source": [
    "#必要なライブラリをインポート\n",
    "from bs4 import BeautifulSoup\n",
    "import requests\n",
    "import pandas as pd\n",
    "import time"
   ]
  },
  {
   "cell_type": "code",
   "execution_count": 2,
   "id": "dc41980a",
   "metadata": {},
   "outputs": [],
   "source": [
    "#input fileの読み込み tab区切り\n",
    "InputFilePath = \"/Users/makky/knime-workspace/Input/StationCombination.csv\"\n",
    "df_base = pd.read_table(InputFilePath)\n",
    "SearchURLs = df_base[\"SearchURL\"].values.tolist()\n",
    "Origins = df_base[\"Origin\"].values.tolist()\n",
    "Destinations = df_base[\"Destination\"].values.tolist()"
   ]
  },
  {
   "cell_type": "code",
   "execution_count": null,
   "id": "0e7774d2",
   "metadata": {
    "scrolled": true
   },
   "outputs": [
    {
     "name": "stdout",
     "output_type": "stream",
     "text": [
      "1 / 3972\n"
     ]
    }
   ],
   "source": [
    "Results = []\n",
    "HeaderNames = [\"SearchURL\", \"Origin\", \"Destination\", \"Time\", \"Fare\", \"Transfer\", \"Priority\",\"Comment\"]\n",
    "\n",
    "for iURL, url in enumerate(SearchURLs):\n",
    "    print(str(iURL+1) + \" / \" + str(len(SearchURLs)))\n",
    "    try:\n",
    "        #データ取得\n",
    "        result = requests.get(url)\n",
    "        c = result.content\n",
    "        #HTMLを元に、オブジェクトを作る\n",
    "        soup = BeautifulSoup(c, \"html.parser\")\n",
    "        #ページ数を取得\n",
    "        body = soup.find(\"body\")\n",
    "        RouteListElem = body.find(\"ul\",{'class':'routeList'})\n",
    "        \n",
    "        if RouteListElem == None:\n",
    "            ErrorElem = body.find(\"div\",{'class':'boxError'})\n",
    "            ErrorMessage = ErrorElem.get_text()\n",
    "            Detail = [SearchURLs[iURL], Origins[iURL], Destinations[iURL], \"\", \"\", \"\", \"\", ErrorMessage]\n",
    "            Results.append(Detail) \n",
    "            time.sleep(5)\n",
    "        else:\n",
    "            TimeElem = RouteListElem.find_all(\"li\",{'class':'time'})\n",
    "            Times = [elem.find(\"span\",{'class':'small'}).get_text() for elem in TimeElem]\n",
    "            Time = ' --- '.join(Times)\n",
    "\n",
    "            FareElem = RouteListElem.find_all(\"li\",{'class':'fare'})\n",
    "            Fares = [elem.get_text() for elem in FareElem]\n",
    "            Fare = ' --- '.join(Fares)\n",
    "\n",
    "            TransferElem = RouteListElem.find_all(\"li\",{'class':'transfer'})\n",
    "            Transfers = [elem.get_text() for elem in TransferElem]\n",
    "            Transfer = ' --- '.join(Transfers)    \n",
    "\n",
    "            PriorityElem = RouteListElem.find_all(\"li\",{'class':'priority'})\n",
    "            Priorities = [elem.get_text() for elem in PriorityElem]\n",
    "            Priority = ' --- '.join(Priorities)  \n",
    "\n",
    "            Detail = [SearchURLs[iURL], Origins[iURL], Destinations[iURL], Time, Fare, Transfer, Priority,\"\"]\n",
    "            Results.append(Detail)\n",
    "            time.sleep(5)\n",
    "    except requests.exceptions.RequestException as e:\n",
    "        print(\"エラー : \",e)\n",
    "        time.sleep(5)\n",
    "\n",
    "df = pd.DataFrame(Results, columns = HeaderNames)\n",
    "filename = \"Yahoo_Route.csv\"\n",
    "df.to_csv(filename)"
   ]
  },
  {
   "cell_type": "code",
   "execution_count": null,
   "id": "36fd2926",
   "metadata": {},
   "outputs": [],
   "source": []
  },
  {
   "cell_type": "markdown",
   "id": "da7b351c",
   "metadata": {},
   "source": [
    "# Debug\n",
    "df = pd.DataFrame(Results, columns = HeaderNames)\n",
    "filename = \"Yahoo_Route.csv\"\n",
    "df.to_csv(filename)"
   ]
  },
  {
   "cell_type": "markdown",
   "id": "83a44825",
   "metadata": {},
   "source": [
    "# Debug\n",
    "iURL = 1631\n",
    "url = SearchURLs[iURL]\n",
    "Results = []\n",
    "HeaderNames = [\"SearchURL\", \"Origin\", \"Destination\", \"Time\", \"Fare\", \"Transfer\", \"Priority\",\"Comment\"]\n",
    "\n",
    "print(url)\n",
    "\n",
    "print(str(iURL+1) + \" / \" + str(len(SearchURLs)))\n",
    "#データ取得\n",
    "result = requests.get(url)\n",
    "c = result.content\n",
    "#HTMLを元に、オブジェクトを作る\n",
    "soup = BeautifulSoup(c, \"html.parser\")\n",
    "#ページ数を取得\n",
    "body = soup.find(\"body\")\n",
    "RouteListElem = body.find(\"ul\",{'class':'routeList'})\n",
    "\n",
    "if RouteListElem == None:\n",
    "    ErrorElem = body.find(\"div\",{'class':'boxError'})\n",
    "    ErrorMessage = ErrorElem.get_text()\n",
    "    Detail = [SearchURLs[iURL], Origins[iURL], Destinations[iURL], \"\", \"\", \"\", \"\", ErrorMessage]\n",
    "    Results.append(Detail) \n",
    "    time.sleep(5)\n",
    "else:\n",
    "    TimeElem = RouteListElem.find_all(\"li\",{'class':'time'})\n",
    "    Times = [elem.find(\"span\",{'class':'small'}).get_text() for elem in TimeElem]\n",
    "    Time = ' --- '.join(Times)\n",
    "\n",
    "    FareElem = RouteListElem.find_all(\"li\",{'class':'fare'})\n",
    "    Fares = [elem.get_text() for elem in FareElem]\n",
    "    Fare = ' --- '.join(Fares)\n",
    "\n",
    "    TransferElem = RouteListElem.find_all(\"li\",{'class':'transfer'})\n",
    "    Transfers = [elem.get_text() for elem in TransferElem]\n",
    "    Transfer = ' --- '.join(Transfers)    \n",
    "\n",
    "    PriorityElem = RouteListElem.find_all(\"li\",{'class':'priority'})\n",
    "    Priorities = [elem.get_text() for elem in PriorityElem]\n",
    "    Priority = ' --- '.join(Priorities)  \n",
    "    Detail = [SearchURLs[iURL], Origins[iURL], Destinations[iURL], Time, Fare, Transfer, Priority,\"\"]\n",
    "    Results.append(Detail)\n",
    "    time.sleep(5)\n",
    "\n",
    "\n",
    "#     Times = [elem.find(\"span\",{'class':'small'}).get_text() for elem in TimeElem]\n",
    "\n",
    "#     FareElem = RouteListElem.find_all(\"li\",{'class':'fare'})\n",
    "#     Fare = [elem.get_text() for elem in FareElem]\n",
    "\n",
    "#     TransferElem = RouteListElem.find_all(\"li\",{'class':'transfer'})\n",
    "#     Transfer = [elem.get_text() for elem in TransferElem]\n",
    "\n",
    "#     PriorityElem = RouteListElem.find_all(\"li\",{'class':'priority'})\n",
    "#     Priority = [elem.get_text() for elem in PriorityElem]\n"
   ]
  },
  {
   "cell_type": "code",
   "execution_count": null,
   "id": "4649f015",
   "metadata": {},
   "outputs": [],
   "source": []
  },
  {
   "cell_type": "code",
   "execution_count": null,
   "id": "fbc0fb52",
   "metadata": {},
   "outputs": [],
   "source": []
  }
 ],
 "metadata": {
  "kernelspec": {
   "display_name": "Python 3",
   "language": "python",
   "name": "python3"
  },
  "language_info": {
   "codemirror_mode": {
    "name": "ipython",
    "version": 3
   },
   "file_extension": ".py",
   "mimetype": "text/x-python",
   "name": "python",
   "nbconvert_exporter": "python",
   "pygments_lexer": "ipython3",
   "version": "3.8.10"
  }
 },
 "nbformat": 4,
 "nbformat_minor": 5
}
